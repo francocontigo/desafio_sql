{
 "cells": [
  {
   "cell_type": "markdown",
   "metadata": {},
   "source": [
    "# Desafio"
   ]
  },
  {
   "cell_type": "markdown",
   "metadata": {},
   "source": [
    "## Importação das Bibliotecas e Tratamento dos Dados"
   ]
  },
  {
   "cell_type": "code",
   "execution_count": 12,
   "metadata": {},
   "outputs": [],
   "source": [
    "import pandas as pd"
   ]
  },
  {
   "cell_type": "code",
   "execution_count": 13,
   "metadata": {},
   "outputs": [
    {
     "data": {
      "text/html": [
       "<div>\n",
       "<style scoped>\n",
       "    .dataframe tbody tr th:only-of-type {\n",
       "        vertical-align: middle;\n",
       "    }\n",
       "\n",
       "    .dataframe tbody tr th {\n",
       "        vertical-align: top;\n",
       "    }\n",
       "\n",
       "    .dataframe thead th {\n",
       "        text-align: right;\n",
       "    }\n",
       "</style>\n",
       "<table border=\"1\" class=\"dataframe\">\n",
       "  <thead>\n",
       "    <tr style=\"text-align: right;\">\n",
       "      <th></th>\n",
       "      <th>Cliente</th>\n",
       "      <th>ID</th>\n",
       "      <th>Tipo</th>\n",
       "      <th>Data da Venda</th>\n",
       "      <th>Categoria</th>\n",
       "      <th>Vendedor</th>\n",
       "      <th>Regional</th>\n",
       "      <th>Duração do Contrato (Meses)</th>\n",
       "      <th>Equipe</th>\n",
       "      <th>Valor</th>\n",
       "      <th>Unnamed: 10</th>\n",
       "    </tr>\n",
       "  </thead>\n",
       "  <tbody>\n",
       "    <tr>\n",
       "      <th>0</th>\n",
       "      <td>Cliente 1</td>\n",
       "      <td>2017-0022</td>\n",
       "      <td>Serviços</td>\n",
       "      <td>02/01/2018</td>\n",
       "      <td>Novo Logo</td>\n",
       "      <td>Vendedor 1</td>\n",
       "      <td>Brasil</td>\n",
       "      <td>1</td>\n",
       "      <td>Time 1</td>\n",
       "      <td>R$ 24.800,00</td>\n",
       "      <td>NaN</td>\n",
       "    </tr>\n",
       "    <tr>\n",
       "      <th>1</th>\n",
       "      <td>Cliente 10</td>\n",
       "      <td>2018-0088</td>\n",
       "      <td>Serviços</td>\n",
       "      <td>14/02/2018</td>\n",
       "      <td>Novo Logo</td>\n",
       "      <td>Vendedor 1</td>\n",
       "      <td>Brasil</td>\n",
       "      <td>6</td>\n",
       "      <td>Time 1</td>\n",
       "      <td>R$ 302.720,00</td>\n",
       "      <td>NaN</td>\n",
       "    </tr>\n",
       "    <tr>\n",
       "      <th>2</th>\n",
       "      <td>Cliente 10</td>\n",
       "      <td>2018-0104</td>\n",
       "      <td>Serviços</td>\n",
       "      <td>13/03/2018</td>\n",
       "      <td>Upselling</td>\n",
       "      <td>Vendedor 1</td>\n",
       "      <td>Brasil</td>\n",
       "      <td>1</td>\n",
       "      <td>Time 1</td>\n",
       "      <td>R$ 51.894,86</td>\n",
       "      <td>NaN</td>\n",
       "    </tr>\n",
       "    <tr>\n",
       "      <th>3</th>\n",
       "      <td>Cliente 10</td>\n",
       "      <td>2018-0168</td>\n",
       "      <td>Serviços</td>\n",
       "      <td>30/04/2018</td>\n",
       "      <td>Upselling</td>\n",
       "      <td>Vendedor 1</td>\n",
       "      <td>Brasil</td>\n",
       "      <td>2</td>\n",
       "      <td>Time 1</td>\n",
       "      <td>R$ 51.894,86</td>\n",
       "      <td>NaN</td>\n",
       "    </tr>\n",
       "    <tr>\n",
       "      <th>4</th>\n",
       "      <td>Cliente 10</td>\n",
       "      <td>2018-0169</td>\n",
       "      <td>Serviços</td>\n",
       "      <td>30/04/2018</td>\n",
       "      <td>Upselling</td>\n",
       "      <td>Vendedor 1</td>\n",
       "      <td>Brasil</td>\n",
       "      <td>2</td>\n",
       "      <td>Time 1</td>\n",
       "      <td>R$ 51.894,86</td>\n",
       "      <td>NaN</td>\n",
       "    </tr>\n",
       "  </tbody>\n",
       "</table>\n",
       "</div>"
      ],
      "text/plain": [
       "      Cliente         ID      Tipo Data da Venda  Categoria    Vendedor  \\\n",
       "0   Cliente 1  2017-0022  Serviços    02/01/2018  Novo Logo  Vendedor 1   \n",
       "1  Cliente 10  2018-0088  Serviços    14/02/2018  Novo Logo  Vendedor 1   \n",
       "2  Cliente 10  2018-0104  Serviços    13/03/2018  Upselling  Vendedor 1   \n",
       "3  Cliente 10  2018-0168  Serviços    30/04/2018  Upselling  Vendedor 1   \n",
       "4  Cliente 10  2018-0169  Serviços    30/04/2018  Upselling  Vendedor 1   \n",
       "\n",
       "  Regional  Duração do Contrato (Meses)  Equipe            Valor  Unnamed: 10  \n",
       "0   Brasil                            1  Time 1    R$ 24.800,00           NaN  \n",
       "1   Brasil                            6  Time 1   R$ 302.720,00           NaN  \n",
       "2   Brasil                            1  Time 1    R$ 51.894,86           NaN  \n",
       "3   Brasil                            2  Time 1    R$ 51.894,86           NaN  \n",
       "4   Brasil                            2  Time 1    R$ 51.894,86           NaN  "
      ]
     },
     "execution_count": 13,
     "metadata": {},
     "output_type": "execute_result"
    }
   ],
   "source": [
    "# Após importar a biblioteca, vamos ao carregamento do arquivo\n",
    "\n",
    "df = pd.read_csv(\"./data/DB_Teste.csv\", sep=\";\", encoding=\"utf-8\")\n",
    "df.head()"
   ]
  },
  {
   "cell_type": "markdown",
   "metadata": {},
   "source": [
    "Com o DataFrame criado, vamos verificar as colunas contidas, seus Dtypes e a existência de valores nulos."
   ]
  },
  {
   "cell_type": "code",
   "execution_count": 14,
   "metadata": {},
   "outputs": [
    {
     "name": "stdout",
     "output_type": "stream",
     "text": [
      "<class 'pandas.core.frame.DataFrame'>\n",
      "RangeIndex: 853 entries, 0 to 852\n",
      "Data columns (total 11 columns):\n",
      " #   Column                       Non-Null Count  Dtype  \n",
      "---  ------                       --------------  -----  \n",
      " 0   Cliente                      853 non-null    object \n",
      " 1   ID                           853 non-null    object \n",
      " 2   Tipo                         853 non-null    object \n",
      " 3   Data da Venda                853 non-null    object \n",
      " 4   Categoria                    853 non-null    object \n",
      " 5   Vendedor                     853 non-null    object \n",
      " 6   Regional                     853 non-null    object \n",
      " 7   Duração do Contrato (Meses)  853 non-null    int64  \n",
      " 8   Equipe                       853 non-null    object \n",
      " 9   Valor                        853 non-null    object \n",
      " 10  Unnamed: 10                  0 non-null      float64\n",
      "dtypes: float64(1), int64(1), object(9)\n",
      "memory usage: 73.4+ KB\n"
     ]
    },
    {
     "data": {
      "text/plain": [
       "Index(['Cliente', 'ID', 'Tipo', 'Data da Venda', 'Categoria', 'Vendedor',\n",
       "       'Regional', 'Duração do Contrato (Meses)', 'Equipe', 'Valor',\n",
       "       'Unnamed: 10'],\n",
       "      dtype='object')"
      ]
     },
     "execution_count": 14,
     "metadata": {},
     "output_type": "execute_result"
    }
   ],
   "source": [
    "df.info()\n",
    "df.columns"
   ]
  },
  {
   "cell_type": "markdown",
   "metadata": {},
   "source": [
    "Com a identificação de uma coluna nomeada \"Unnamed: 10\" contendo apenas valores nulos, podemos excluí-la sem perder nenhuma informação, deixando o DataFrame mais limpo."
   ]
  },
  {
   "cell_type": "code",
   "execution_count": 15,
   "metadata": {},
   "outputs": [
    {
     "name": "stdout",
     "output_type": "stream",
     "text": [
      "<class 'pandas.core.frame.DataFrame'>\n",
      "RangeIndex: 853 entries, 0 to 852\n",
      "Data columns (total 10 columns):\n",
      " #   Column                       Non-Null Count  Dtype \n",
      "---  ------                       --------------  ----- \n",
      " 0   Cliente                      853 non-null    object\n",
      " 1   ID                           853 non-null    object\n",
      " 2   Tipo                         853 non-null    object\n",
      " 3   Data da Venda                853 non-null    object\n",
      " 4   Categoria                    853 non-null    object\n",
      " 5   Vendedor                     853 non-null    object\n",
      " 6   Regional                     853 non-null    object\n",
      " 7   Duração do Contrato (Meses)  853 non-null    int64 \n",
      " 8   Equipe                       853 non-null    object\n",
      " 9   Valor                        853 non-null    object\n",
      "dtypes: int64(1), object(9)\n",
      "memory usage: 66.8+ KB\n"
     ]
    }
   ],
   "source": [
    "df = df.drop(\"Unnamed: 10\", axis=1)\n",
    "df.info()"
   ]
  },
  {
   "cell_type": "markdown",
   "metadata": {},
   "source": [
    "Verificando a existência de valores duplicados"
   ]
  },
  {
   "cell_type": "code",
   "execution_count": 16,
   "metadata": {},
   "outputs": [
    {
     "name": "stdout",
     "output_type": "stream",
     "text": [
      "0\n"
     ]
    }
   ],
   "source": [
    "duplicados = df.duplicated()\n",
    "print(duplicados.sum())"
   ]
  },
  {
   "cell_type": "markdown",
   "metadata": {},
   "source": [
    "Após verificar o dtype de cada coluna, constatamos que a coluna \"Valor\" não está registrada como um tipo numérico. É necessário tratá-la para converter suas ocorrências em valores numéricos."
   ]
  },
  {
   "cell_type": "code",
   "execution_count": 17,
   "metadata": {},
   "outputs": [
    {
     "name": "stderr",
     "output_type": "stream",
     "text": [
      "<>:3: SyntaxWarning: invalid escape sequence '\\s'\n",
      "<>:4: SyntaxWarning: invalid escape sequence '\\$'\n",
      "<>:5: SyntaxWarning: invalid escape sequence '\\.'\n",
      "<>:3: SyntaxWarning: invalid escape sequence '\\s'\n",
      "<>:4: SyntaxWarning: invalid escape sequence '\\$'\n",
      "<>:5: SyntaxWarning: invalid escape sequence '\\.'\n",
      "C:\\Users\\ricar\\AppData\\Local\\Temp\\ipykernel_33892\\3996366419.py:3: SyntaxWarning: invalid escape sequence '\\s'\n",
      "  \"\\s+\": \"\",\n",
      "C:\\Users\\ricar\\AppData\\Local\\Temp\\ipykernel_33892\\3996366419.py:4: SyntaxWarning: invalid escape sequence '\\$'\n",
      "  \"R\\$\": \"\",\n",
      "C:\\Users\\ricar\\AppData\\Local\\Temp\\ipykernel_33892\\3996366419.py:5: SyntaxWarning: invalid escape sequence '\\.'\n",
      "  \"\\.\": \"\",\n"
     ]
    }
   ],
   "source": [
    "df[\"Valor\"] = df[\"Valor\"].replace(\n",
    "    {\n",
    "        \"\\s+\": \"\",\n",
    "        \"R\\$\": \"\",\n",
    "        \"\\.\": \"\",\n",
    "        \",\": \".\"\n",
    "    },\n",
    "    regex=True\n",
    ").astype(float)"
   ]
  },
  {
   "cell_type": "markdown",
   "metadata": {},
   "source": [
    "Salvando o CSV limpo para uso posterior"
   ]
  },
  {
   "cell_type": "code",
   "execution_count": 18,
   "metadata": {},
   "outputs": [],
   "source": [
    "df.to_csv(\"./data/DB_Teste_Limpo.csv\", index=False, sep=\";\")"
   ]
  },
  {
   "cell_type": "markdown",
   "metadata": {},
   "source": [
    "## Desafios"
   ]
  },
  {
   "cell_type": "markdown",
   "metadata": {},
   "source": [
    "1. Construa uma tabela auxiliar que sumarize o valor vendido por cada vendedor, ordenando do maior para o menor."
   ]
  },
  {
   "cell_type": "code",
   "execution_count": 19,
   "metadata": {},
   "outputs": [
    {
     "data": {
      "text/html": [
       "<div>\n",
       "<style scoped>\n",
       "    .dataframe tbody tr th:only-of-type {\n",
       "        vertical-align: middle;\n",
       "    }\n",
       "\n",
       "    .dataframe tbody tr th {\n",
       "        vertical-align: top;\n",
       "    }\n",
       "\n",
       "    .dataframe thead th {\n",
       "        text-align: right;\n",
       "    }\n",
       "</style>\n",
       "<table border=\"1\" class=\"dataframe\">\n",
       "  <thead>\n",
       "    <tr style=\"text-align: right;\">\n",
       "      <th></th>\n",
       "      <th>Vendedor</th>\n",
       "      <th>Valor</th>\n",
       "    </tr>\n",
       "  </thead>\n",
       "  <tbody>\n",
       "    <tr>\n",
       "      <th>22</th>\n",
       "      <td>Vendedor 3</td>\n",
       "      <td>166220477.72</td>\n",
       "    </tr>\n",
       "    <tr>\n",
       "      <th>27</th>\n",
       "      <td>Vendedor 7</td>\n",
       "      <td>57799181.73</td>\n",
       "    </tr>\n",
       "    <tr>\n",
       "      <th>1</th>\n",
       "      <td>Vendedor 10</td>\n",
       "      <td>52212055.49</td>\n",
       "    </tr>\n",
       "    <tr>\n",
       "      <th>28</th>\n",
       "      <td>Vendedor 8</td>\n",
       "      <td>47274510.01</td>\n",
       "    </tr>\n",
       "    <tr>\n",
       "      <th>0</th>\n",
       "      <td>Vendedor 1</td>\n",
       "      <td>30929480.27</td>\n",
       "    </tr>\n",
       "    <tr>\n",
       "      <th>29</th>\n",
       "      <td>Vendedor 9</td>\n",
       "      <td>26374558.54</td>\n",
       "    </tr>\n",
       "    <tr>\n",
       "      <th>4</th>\n",
       "      <td>Vendedor 13</td>\n",
       "      <td>24837304.87</td>\n",
       "    </tr>\n",
       "    <tr>\n",
       "      <th>9</th>\n",
       "      <td>Vendedor 18</td>\n",
       "      <td>22662296.25</td>\n",
       "    </tr>\n",
       "    <tr>\n",
       "      <th>21</th>\n",
       "      <td>Vendedor 29</td>\n",
       "      <td>19076866.26</td>\n",
       "    </tr>\n",
       "    <tr>\n",
       "      <th>24</th>\n",
       "      <td>Vendedor 4</td>\n",
       "      <td>17346823.03</td>\n",
       "    </tr>\n",
       "    <tr>\n",
       "      <th>5</th>\n",
       "      <td>Vendedor 14</td>\n",
       "      <td>7558041.75</td>\n",
       "    </tr>\n",
       "    <tr>\n",
       "      <th>12</th>\n",
       "      <td>Vendedor 20</td>\n",
       "      <td>7520906.99</td>\n",
       "    </tr>\n",
       "    <tr>\n",
       "      <th>10</th>\n",
       "      <td>Vendedor 19</td>\n",
       "      <td>6513184.00</td>\n",
       "    </tr>\n",
       "    <tr>\n",
       "      <th>11</th>\n",
       "      <td>Vendedor 2</td>\n",
       "      <td>5673760.88</td>\n",
       "    </tr>\n",
       "    <tr>\n",
       "      <th>7</th>\n",
       "      <td>Vendedor 16</td>\n",
       "      <td>4879238.00</td>\n",
       "    </tr>\n",
       "    <tr>\n",
       "      <th>26</th>\n",
       "      <td>Vendedor 6</td>\n",
       "      <td>3548886.69</td>\n",
       "    </tr>\n",
       "    <tr>\n",
       "      <th>20</th>\n",
       "      <td>Vendedor 28</td>\n",
       "      <td>3307137.75</td>\n",
       "    </tr>\n",
       "    <tr>\n",
       "      <th>3</th>\n",
       "      <td>Vendedor 12</td>\n",
       "      <td>3019669.14</td>\n",
       "    </tr>\n",
       "    <tr>\n",
       "      <th>14</th>\n",
       "      <td>Vendedor 22</td>\n",
       "      <td>2150000.00</td>\n",
       "    </tr>\n",
       "    <tr>\n",
       "      <th>13</th>\n",
       "      <td>Vendedor 21</td>\n",
       "      <td>1943240.00</td>\n",
       "    </tr>\n",
       "    <tr>\n",
       "      <th>15</th>\n",
       "      <td>Vendedor 23</td>\n",
       "      <td>1941880.09</td>\n",
       "    </tr>\n",
       "    <tr>\n",
       "      <th>2</th>\n",
       "      <td>Vendedor 11</td>\n",
       "      <td>1221786.61</td>\n",
       "    </tr>\n",
       "    <tr>\n",
       "      <th>8</th>\n",
       "      <td>Vendedor 17</td>\n",
       "      <td>1133803.11</td>\n",
       "    </tr>\n",
       "    <tr>\n",
       "      <th>25</th>\n",
       "      <td>Vendedor 5</td>\n",
       "      <td>913900.00</td>\n",
       "    </tr>\n",
       "    <tr>\n",
       "      <th>16</th>\n",
       "      <td>Vendedor 24</td>\n",
       "      <td>583970.00</td>\n",
       "    </tr>\n",
       "    <tr>\n",
       "      <th>23</th>\n",
       "      <td>Vendedor 30</td>\n",
       "      <td>515446.83</td>\n",
       "    </tr>\n",
       "    <tr>\n",
       "      <th>19</th>\n",
       "      <td>Vendedor 27</td>\n",
       "      <td>420000.00</td>\n",
       "    </tr>\n",
       "    <tr>\n",
       "      <th>18</th>\n",
       "      <td>Vendedor 26</td>\n",
       "      <td>384000.00</td>\n",
       "    </tr>\n",
       "    <tr>\n",
       "      <th>6</th>\n",
       "      <td>Vendedor 15</td>\n",
       "      <td>86504.61</td>\n",
       "    </tr>\n",
       "    <tr>\n",
       "      <th>17</th>\n",
       "      <td>Vendedor 25</td>\n",
       "      <td>40532.00</td>\n",
       "    </tr>\n",
       "  </tbody>\n",
       "</table>\n",
       "</div>"
      ],
      "text/plain": [
       "       Vendedor         Valor\n",
       "22   Vendedor 3  166220477.72\n",
       "27   Vendedor 7   57799181.73\n",
       "1   Vendedor 10   52212055.49\n",
       "28   Vendedor 8   47274510.01\n",
       "0    Vendedor 1   30929480.27\n",
       "29   Vendedor 9   26374558.54\n",
       "4   Vendedor 13   24837304.87\n",
       "9   Vendedor 18   22662296.25\n",
       "21  Vendedor 29   19076866.26\n",
       "24   Vendedor 4   17346823.03\n",
       "5   Vendedor 14    7558041.75\n",
       "12  Vendedor 20    7520906.99\n",
       "10  Vendedor 19    6513184.00\n",
       "11   Vendedor 2    5673760.88\n",
       "7   Vendedor 16    4879238.00\n",
       "26   Vendedor 6    3548886.69\n",
       "20  Vendedor 28    3307137.75\n",
       "3   Vendedor 12    3019669.14\n",
       "14  Vendedor 22    2150000.00\n",
       "13  Vendedor 21    1943240.00\n",
       "15  Vendedor 23    1941880.09\n",
       "2   Vendedor 11    1221786.61\n",
       "8   Vendedor 17    1133803.11\n",
       "25   Vendedor 5     913900.00\n",
       "16  Vendedor 24     583970.00\n",
       "23  Vendedor 30     515446.83\n",
       "19  Vendedor 27     420000.00\n",
       "18  Vendedor 26     384000.00\n",
       "6   Vendedor 15      86504.61\n",
       "17  Vendedor 25      40532.00"
      ]
     },
     "execution_count": 19,
     "metadata": {},
     "output_type": "execute_result"
    }
   ],
   "source": [
    "# Agrupando o DataFrame pelos vendedores e somando os valores vendidos\n",
    "df_vendedores = df.groupby(\"Vendedor\")[[\"Valor\"]].sum().reset_index()\n",
    "\n",
    "# Ordenando os vendedores do maior para o menor valor vendido\n",
    "df_vendedores = df_vendedores.sort_values(by=\"Valor\", ascending=False)\n",
    "\n",
    "# Aplicando uma função lambda para formatar os valores para facilitar a visualização\n",
    "df_vendedores[\"Valor\"] = df_vendedores[\"Valor\"].apply(lambda x: \"%.2f\" % x)\n",
    "\n",
    "# Resposta\n",
    "df_vendedores"
   ]
  },
  {
   "cell_type": "markdown",
   "metadata": {},
   "source": [
    "2. Imprima e identifica qual foi o cliente responsável pela venda com maior valor e com menor valor."
   ]
  },
  {
   "cell_type": "code",
   "execution_count": 20,
   "metadata": {},
   "outputs": [
    {
     "name": "stdout",
     "output_type": "stream",
     "text": [
      "O cliente com o menor valor de venda: Cliente 120\n",
      "O cliente com o maior valor de venda: Cliente 89\n"
     ]
    }
   ],
   "source": [
    "# Encontrando o index da linha com o menor valor\n",
    "menor_index = df[\"Valor\"].idxmin()\n",
    "# Encontrando o cliente associado ao menor valor\n",
    "menor_id = df.loc[menor_index, \"Cliente\"]\n",
    "\n",
    "# Encontrando o inex da linha com o maior valor\n",
    "maior_index = df[\"Valor\"].idxmax()\n",
    "# Encontrando o cliente associado ao maior valor\n",
    "maior_id = df.loc[maior_index, \"Cliente\"]\n",
    "\n",
    "# Resposta\n",
    "print(f\"O cliente com o menor valor de venda: {menor_id}\")\n",
    "print(f\"O cliente com o maior valor de venda: {maior_id}\")\n"
   ]
  },
  {
   "cell_type": "markdown",
   "metadata": {},
   "source": [
    "3. Imprima valor médio por Tipo de venda (Serviços, Licenciamento, Produtos)."
   ]
  },
  {
   "cell_type": "code",
   "execution_count": 21,
   "metadata": {},
   "outputs": [
    {
     "data": {
      "text/html": [
       "<div>\n",
       "<style scoped>\n",
       "    .dataframe tbody tr th:only-of-type {\n",
       "        vertical-align: middle;\n",
       "    }\n",
       "\n",
       "    .dataframe tbody tr th {\n",
       "        vertical-align: top;\n",
       "    }\n",
       "\n",
       "    .dataframe thead th {\n",
       "        text-align: right;\n",
       "    }\n",
       "</style>\n",
       "<table border=\"1\" class=\"dataframe\">\n",
       "  <thead>\n",
       "    <tr style=\"text-align: right;\">\n",
       "      <th></th>\n",
       "      <th>Tipo</th>\n",
       "      <th>Valor</th>\n",
       "    </tr>\n",
       "  </thead>\n",
       "  <tbody>\n",
       "    <tr>\n",
       "      <th>0</th>\n",
       "      <td>Licenciamento</td>\n",
       "      <td>983448.77</td>\n",
       "    </tr>\n",
       "    <tr>\n",
       "      <th>1</th>\n",
       "      <td>Produtos</td>\n",
       "      <td>893409.19</td>\n",
       "    </tr>\n",
       "    <tr>\n",
       "      <th>2</th>\n",
       "      <td>Serviços</td>\n",
       "      <td>314567.94</td>\n",
       "    </tr>\n",
       "  </tbody>\n",
       "</table>\n",
       "</div>"
      ],
      "text/plain": [
       "            Tipo      Valor\n",
       "0  Licenciamento  983448.77\n",
       "1       Produtos  893409.19\n",
       "2       Serviços  314567.94"
      ]
     },
     "execution_count": 21,
     "metadata": {},
     "output_type": "execute_result"
    }
   ],
   "source": [
    "# Agrupando o DataFrame pelo tipo de venda e calculando a média dos valores\n",
    "df_valor_medio = df.groupby(\"Tipo\")[[\"Valor\"]].mean().reset_index()\n",
    "\n",
    "# Aplicando uma função lambda para formatar os valores para facilitar a visualização\n",
    "df_valor_medio[\"Valor\"] = df_valor_medio[\"Valor\"].apply(lambda x: \"%.2f\" % x)\n",
    "\n",
    "# Resposta\n",
    "df_valor_medio"
   ]
  },
  {
   "cell_type": "markdown",
   "metadata": {},
   "source": [
    "4. Imprima o número de vendas realizada por cliente."
   ]
  },
  {
   "cell_type": "code",
   "execution_count": 22,
   "metadata": {},
   "outputs": [
    {
     "data": {
      "text/html": [
       "<div>\n",
       "<style scoped>\n",
       "    .dataframe tbody tr th:only-of-type {\n",
       "        vertical-align: middle;\n",
       "    }\n",
       "\n",
       "    .dataframe tbody tr th {\n",
       "        vertical-align: top;\n",
       "    }\n",
       "\n",
       "    .dataframe thead th {\n",
       "        text-align: right;\n",
       "    }\n",
       "</style>\n",
       "<table border=\"1\" class=\"dataframe\">\n",
       "  <thead>\n",
       "    <tr style=\"text-align: right;\">\n",
       "      <th></th>\n",
       "      <th>Cliente</th>\n",
       "      <th>Número de Vendas</th>\n",
       "    </tr>\n",
       "  </thead>\n",
       "  <tbody>\n",
       "    <tr>\n",
       "      <th>0</th>\n",
       "      <td>Cliente 5</td>\n",
       "      <td>128</td>\n",
       "    </tr>\n",
       "    <tr>\n",
       "      <th>1</th>\n",
       "      <td>Cliente 8</td>\n",
       "      <td>61</td>\n",
       "    </tr>\n",
       "    <tr>\n",
       "      <th>2</th>\n",
       "      <td>Cliente 4</td>\n",
       "      <td>60</td>\n",
       "    </tr>\n",
       "    <tr>\n",
       "      <th>3</th>\n",
       "      <td>Cliente 10</td>\n",
       "      <td>43</td>\n",
       "    </tr>\n",
       "    <tr>\n",
       "      <th>4</th>\n",
       "      <td>Cliente 3</td>\n",
       "      <td>31</td>\n",
       "    </tr>\n",
       "    <tr>\n",
       "      <th>...</th>\n",
       "      <td>...</td>\n",
       "      <td>...</td>\n",
       "    </tr>\n",
       "    <tr>\n",
       "      <th>152</th>\n",
       "      <td>Cliente 146</td>\n",
       "      <td>1</td>\n",
       "    </tr>\n",
       "    <tr>\n",
       "      <th>153</th>\n",
       "      <td>Cliente 144</td>\n",
       "      <td>1</td>\n",
       "    </tr>\n",
       "    <tr>\n",
       "      <th>154</th>\n",
       "      <td>Cliente 143</td>\n",
       "      <td>1</td>\n",
       "    </tr>\n",
       "    <tr>\n",
       "      <th>155</th>\n",
       "      <td>Cliente 142</td>\n",
       "      <td>1</td>\n",
       "    </tr>\n",
       "    <tr>\n",
       "      <th>156</th>\n",
       "      <td>Cliente 99</td>\n",
       "      <td>1</td>\n",
       "    </tr>\n",
       "  </tbody>\n",
       "</table>\n",
       "<p>157 rows × 2 columns</p>\n",
       "</div>"
      ],
      "text/plain": [
       "         Cliente  Número de Vendas\n",
       "0      Cliente 5               128\n",
       "1      Cliente 8                61\n",
       "2      Cliente 4                60\n",
       "3     Cliente 10                43\n",
       "4      Cliente 3                31\n",
       "..           ...               ...\n",
       "152  Cliente 146                 1\n",
       "153  Cliente 144                 1\n",
       "154  Cliente 143                 1\n",
       "155  Cliente 142                 1\n",
       "156   Cliente 99                 1\n",
       "\n",
       "[157 rows x 2 columns]"
      ]
     },
     "execution_count": 22,
     "metadata": {},
     "output_type": "execute_result"
    }
   ],
   "source": [
    "# Calculando o número de vendas de cada cliente\n",
    "df_numero_vendas_cliente = df.value_counts(\"Cliente\", sort=True).reset_index()\n",
    "\n",
    "# Formatando o nome das colunas para melhor compreensão\n",
    "df_numero_vendas_cliente.columns =[\"Cliente\", \"Número de Vendas\"]\n",
    "\n",
    "# Resposta\n",
    "df_numero_vendas_cliente"
   ]
  }
 ],
 "metadata": {
  "kernelspec": {
   "display_name": "venv",
   "language": "python",
   "name": "python3"
  },
  "language_info": {
   "codemirror_mode": {
    "name": "ipython",
    "version": 3
   },
   "file_extension": ".py",
   "mimetype": "text/x-python",
   "name": "python",
   "nbconvert_exporter": "python",
   "pygments_lexer": "ipython3",
   "version": "3.12.2"
  }
 },
 "nbformat": 4,
 "nbformat_minor": 2
}
